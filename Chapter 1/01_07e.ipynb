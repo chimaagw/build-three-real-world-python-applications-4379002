{
 "cells": [
  {
   "cell_type": "markdown",
   "id": "b750523e",
   "metadata": {},
   "source": [
    "# Scraping Wisdom Pet Medicine Website"
   ]
  },
  {
   "cell_type": "markdown",
   "id": "2365594c",
   "metadata": {},
   "source": [
    "### Imports- **Run First**"
   ]
  },
  {
   "cell_type": "code",
   "execution_count": null,
   "id": "36654280",
   "metadata": {},
   "outputs": [],
   "source": [
    "#import requests packages\n",
    "import requests"
   ]
  },
  {
   "cell_type": "code",
   "execution_count": 2,
   "id": "2c23a9a5",
   "metadata": {},
   "outputs": [],
   "source": [
    "#scrape data from Wisdom Pet Medicine website and save to response variable\n",
    "response = requests.get('http://www.wisdompetmed.com/')"
   ]
  },
  {
   "cell_type": "markdown",
   "id": "49839cbf",
   "metadata": {},
   "source": [
    "### How to retrieve web page information"
   ]
  },
  {
   "cell_type": "code",
   "execution_count": 3,
   "id": "af1184c7",
   "metadata": {
    "scrolled": true
   },
   "outputs": [
    {
     "data": {
      "text/plain": [
       "'http://www.wisdompetmed.com/'"
      ]
     },
     "execution_count": 3,
     "metadata": {},
     "output_type": "execute_result"
    }
   ],
   "source": [
    "#retrieve url of Wisdom Pet Medicine website\n",
    "response.url"
   ]
  },
  {
   "cell_type": "code",
   "execution_count": 4,
   "id": "2d61c1c0",
   "metadata": {},
   "outputs": [
    {
     "data": {
      "text/plain": [
       "200"
      ]
     },
     "execution_count": 4,
     "metadata": {},
     "output_type": "execute_result"
    }
   ],
   "source": [
    "# retrieve status code of Wisdom Pet Medicine website\n",
    "response.status_code"
   ]
  },
  {
   "cell_type": "code",
   "execution_count": 5,
   "id": "0b1d0a67",
   "metadata": {},
   "outputs": [
    {
     "data": {
      "text/plain": [
       "{'Server': 'nginx', 'Date': 'Mon, 24 Apr 2023 04:42:36 GMT', 'Content-Type': 'text/html', 'Transfer-Encoding': 'chunked', 'Connection': 'keep-alive', 'Vary': 'Accept-Encoding', 'Last-Modified': 'Wed, 18 May 2022 17:53:15 GMT', 'ETag': 'W/\"3239-5df4cee7de655\"', 'X-Httpd-Modphp': '1', 'Host-Header': '8441280b0c35cbc1147f8ba998a563a7', 'X-Proxy-Cache': 'HIT', 'Content-Encoding': 'br'}"
      ]
     },
     "execution_count": 5,
     "metadata": {},
     "output_type": "execute_result"
    }
   ],
   "source": [
    "# retrieve headers of Wisdom Pet Medicine website\n",
    "response.headers"
   ]
  }
 ],
 "metadata": {
  "kernelspec": {
   "display_name": "Python 3 (ipykernel)",
   "language": "python",
   "name": "python3"
  },
  "language_info": {
   "codemirror_mode": {
    "name": "ipython",
    "version": 3
   },
   "file_extension": ".py",
   "mimetype": "text/x-python",
   "name": "python",
   "nbconvert_exporter": "python",
   "pygments_lexer": "ipython3",
   "version": "3.10.13"
  }
 },
 "nbformat": 4,
 "nbformat_minor": 5
}
